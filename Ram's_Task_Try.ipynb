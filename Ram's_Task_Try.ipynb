{
 "cells": [
  {
   "cell_type": "markdown",
   "id": "75c209d1",
   "metadata": {},
   "source": [
    " 1. create a code that generates the date values for last 24 months / quarters/ years and future 2 months / quarter / years using the system date and also with manual user input incase of a back dated run\n",
    " 2. There is a ‘01’x delimited flat file who’s headers and field formats are contained in another excel file in sequence. I want to be able to define the headers and formats while importing the flat file using the excel file info\n",
    " 3.we have 2 DS , one is an employee level DS with cols: empid, start date, end date. second is a holiday dataset which has only one col : holiday dates\n",
    " I want to compute the no of working days for each employee which will be the no of days between start and end date from 1st DS minus the no of holidays from 2nd ds that fall within start and end date for each empid\n",
    " ithukku python code venum\n",
    "Ram Synchrony: have 2 time series datasets . Ds1 has cols : country, product, date, expected loss. Ds2 has cols : country , product , date, provision . I want to compute coverage ratio for each country product by month and the formula is expected loss / rolling 12 months provision\n",
    " Ram Synchrony: shittians could you help me with the python code for these"
   ]
  },
  {
   "cell_type": "code",
   "execution_count": 19,
   "id": "8824d2ac",
   "metadata": {},
   "outputs": [],
   "source": [
    "from datetime import date,timedelta"
   ]
  },
  {
   "cell_type": "code",
   "execution_count": 38,
   "id": "8dfa70f9",
   "metadata": {},
   "outputs": [],
   "source": [
    "today=date.today()\n",
    "yesterday = today - timedelta(days=1)\n",
    "lastweek = today - timedelta(days=7)\n",
    "last_24_months=today-timedelta(days=720)\n",
    "lastmonth = today - timedelta(days=1)\n",
    "nextmonth=today + timedelta(days=30)\n",
    "next_2_month=today + timedelta(days=60)"
   ]
  },
  {
   "cell_type": "code",
   "execution_count": 39,
   "id": "e138456b",
   "metadata": {},
   "outputs": [
    {
     "name": "stdout",
     "output_type": "stream",
     "text": [
      "2022-12-03\n"
     ]
    }
   ],
   "source": [
    "print(lastmonth)"
   ]
  },
  {
   "cell_type": "code",
   "execution_count": 30,
   "id": "0cdc1862",
   "metadata": {},
   "outputs": [
    {
     "name": "stdout",
     "output_type": "stream",
     "text": [
      "Enter a year: 2022\n",
      "Enter a month: 06\n",
      "Enter a day: 15\n",
      "2022-06-15\n"
     ]
    }
   ],
   "source": [
    "#UserInputDate for back dated run\n",
    "year = int(input('Enter a year: '))\n",
    "month = int(input('Enter a month: '))\n",
    "day = int(input('Enter a day: '))\n",
    "\n",
    "dt = date(year, month, day)\n",
    "print(dt)\n"
   ]
  },
  {
   "cell_type": "markdown",
   "id": "8c70c8c8",
   "metadata": {},
   "source": [
    "2. A flat file is a collection of data stored in a two-dimensional database in which similar yet discrete strings of information are stored as records in a table. The columns of the table represent one dimension of the database, while each row is a separate record.\n",
    "\n",
    "??-- unable to comprehend the two file imports as requested.\n",
    "https://www.naukri.com/learning/articles/working-with-date-and-time-in-pandas/"
   ]
  },
  {
   "cell_type": "markdown",
   "id": "69f2e9d2",
   "metadata": {},
   "source": [
    "3. we have 2 DS , one is an employee level DS with cols: empid, start date, end date. second is a holiday dataset which has only one col : holiday dates I want to compute the no of working days for each employee which will be the no of days between start and end date from 1st DS minus the no of holidays from 2nd ds that fall within start and end date for each empid ithukku python code venum"
   ]
  },
  {
   "cell_type": "code",
   "execution_count": 60,
   "id": "1ba5bbfc",
   "metadata": {},
   "outputs": [],
   "source": [
    "import pandas as pd\n",
    "data1 = {'empid': ['1101', '1103', '1105', '1107'], 'StartDt': ['25/03/2014', '01/05/2022', '06/09/2019','07/05/2018'], 'EndDt': ['01/05/2022', '01/09/2022', '05/09/2020','07/05/2022']}\n",
    "df1=pd.DataFrame(data1)"
   ]
  },
  {
   "cell_type": "code",
   "execution_count": 61,
   "id": "75f721d8",
   "metadata": {},
   "outputs": [
    {
     "data": {
      "text/html": [
       "<div>\n",
       "<style scoped>\n",
       "    .dataframe tbody tr th:only-of-type {\n",
       "        vertical-align: middle;\n",
       "    }\n",
       "\n",
       "    .dataframe tbody tr th {\n",
       "        vertical-align: top;\n",
       "    }\n",
       "\n",
       "    .dataframe thead th {\n",
       "        text-align: right;\n",
       "    }\n",
       "</style>\n",
       "<table border=\"1\" class=\"dataframe\">\n",
       "  <thead>\n",
       "    <tr style=\"text-align: right;\">\n",
       "      <th></th>\n",
       "      <th>empid</th>\n",
       "      <th>StartDt</th>\n",
       "      <th>EndDt</th>\n",
       "    </tr>\n",
       "  </thead>\n",
       "  <tbody>\n",
       "    <tr>\n",
       "      <th>0</th>\n",
       "      <td>1101</td>\n",
       "      <td>25/03/2014</td>\n",
       "      <td>01/05/2022</td>\n",
       "    </tr>\n",
       "    <tr>\n",
       "      <th>1</th>\n",
       "      <td>1103</td>\n",
       "      <td>01/05/2022</td>\n",
       "      <td>01/09/2022</td>\n",
       "    </tr>\n",
       "    <tr>\n",
       "      <th>2</th>\n",
       "      <td>1105</td>\n",
       "      <td>06/09/2019</td>\n",
       "      <td>05/09/2020</td>\n",
       "    </tr>\n",
       "    <tr>\n",
       "      <th>3</th>\n",
       "      <td>1107</td>\n",
       "      <td>07/05/2018</td>\n",
       "      <td>07/05/2022</td>\n",
       "    </tr>\n",
       "  </tbody>\n",
       "</table>\n",
       "</div>"
      ],
      "text/plain": [
       "  empid     StartDt       EndDt\n",
       "0  1101  25/03/2014  01/05/2022\n",
       "1  1103  01/05/2022  01/09/2022\n",
       "2  1105  06/09/2019  05/09/2020\n",
       "3  1107  07/05/2018  07/05/2022"
      ]
     },
     "execution_count": 61,
     "metadata": {},
     "output_type": "execute_result"
    }
   ],
   "source": [
    "df1"
   ]
  },
  {
   "cell_type": "code",
   "execution_count": 36,
   "id": "c58fc5ae",
   "metadata": {},
   "outputs": [
    {
     "data": {
      "text/plain": [
       "empid      object\n",
       "StartDt    object\n",
       "EndDt      object\n",
       "dtype: object"
      ]
     },
     "execution_count": 36,
     "metadata": {},
     "output_type": "execute_result"
    }
   ],
   "source": [
    "df1.dtypes"
   ]
  },
  {
   "cell_type": "code",
   "execution_count": 68,
   "id": "89193fd6",
   "metadata": {},
   "outputs": [
    {
     "data": {
      "text/html": [
       "<div>\n",
       "<style scoped>\n",
       "    .dataframe tbody tr th:only-of-type {\n",
       "        vertical-align: middle;\n",
       "    }\n",
       "\n",
       "    .dataframe tbody tr th {\n",
       "        vertical-align: top;\n",
       "    }\n",
       "\n",
       "    .dataframe thead th {\n",
       "        text-align: right;\n",
       "    }\n",
       "</style>\n",
       "<table border=\"1\" class=\"dataframe\">\n",
       "  <thead>\n",
       "    <tr style=\"text-align: right;\">\n",
       "      <th></th>\n",
       "      <th>empid</th>\n",
       "      <th>StartDt</th>\n",
       "      <th>EndDt</th>\n",
       "    </tr>\n",
       "  </thead>\n",
       "  <tbody>\n",
       "    <tr>\n",
       "      <th>0</th>\n",
       "      <td>1101</td>\n",
       "      <td>2014-03-25</td>\n",
       "      <td>2022-01-05</td>\n",
       "    </tr>\n",
       "    <tr>\n",
       "      <th>1</th>\n",
       "      <td>1103</td>\n",
       "      <td>2022-01-05</td>\n",
       "      <td>2022-01-09</td>\n",
       "    </tr>\n",
       "    <tr>\n",
       "      <th>2</th>\n",
       "      <td>1105</td>\n",
       "      <td>2019-06-09</td>\n",
       "      <td>2020-05-09</td>\n",
       "    </tr>\n",
       "    <tr>\n",
       "      <th>3</th>\n",
       "      <td>1107</td>\n",
       "      <td>2018-07-05</td>\n",
       "      <td>2022-07-05</td>\n",
       "    </tr>\n",
       "  </tbody>\n",
       "</table>\n",
       "</div>"
      ],
      "text/plain": [
       "  empid    StartDt      EndDt\n",
       "0  1101 2014-03-25 2022-01-05\n",
       "1  1103 2022-01-05 2022-01-09\n",
       "2  1105 2019-06-09 2020-05-09\n",
       "3  1107 2018-07-05 2022-07-05"
      ]
     },
     "execution_count": 68,
     "metadata": {},
     "output_type": "execute_result"
    }
   ],
   "source": [
    "df1.dtypes['StartDt'] = pd.to_datetime(df1['StartDt'])\n",
    "df1"
   ]
  },
  {
   "cell_type": "code",
   "execution_count": 69,
   "id": "fbaff193",
   "metadata": {},
   "outputs": [],
   "source": [
    "df1[\"StartDt\"] = df1[\"StartDt\"].astype('datetime64[ns]')\n",
    "df1[\"EndDt\"] = df1[\"EndDt\"].astype('datetime64[ns]')"
   ]
  },
  {
   "cell_type": "code",
   "execution_count": 54,
   "id": "20d50a87",
   "metadata": {},
   "outputs": [
    {
     "data": {
      "text/plain": [
       "empid              object\n",
       "StartDt    datetime64[ns]\n",
       "EndDt      datetime64[ns]\n",
       "dtype: object"
      ]
     },
     "execution_count": 54,
     "metadata": {},
     "output_type": "execute_result"
    }
   ],
   "source": [
    "df1.dtypes"
   ]
  },
  {
   "cell_type": "code",
   "execution_count": 70,
   "id": "567a9e1f",
   "metadata": {},
   "outputs": [],
   "source": [
    "data2 = {'holidays': ['14/01/2022', '15/03/2022', '22/06/2022','17/11/2022','01/12/2022']}\n",
    "df2=pd.DataFrame(data2)\n"
   ]
  },
  {
   "cell_type": "code",
   "execution_count": 71,
   "id": "1bd56565",
   "metadata": {},
   "outputs": [
    {
     "name": "stderr",
     "output_type": "stream",
     "text": [
      "C:\\Setup\\Anaconda\\lib\\site-packages\\pandas\\core\\dtypes\\cast.py:1163: UserWarning: Parsing '14/01/2022' in DD/MM/YYYY format. Provide format or specify infer_datetime_format=True for consistent parsing.\n",
      "  to_datetime(arr).values,\n",
      "C:\\Setup\\Anaconda\\lib\\site-packages\\pandas\\core\\dtypes\\cast.py:1163: UserWarning: Parsing '15/03/2022' in DD/MM/YYYY format. Provide format or specify infer_datetime_format=True for consistent parsing.\n",
      "  to_datetime(arr).values,\n",
      "C:\\Setup\\Anaconda\\lib\\site-packages\\pandas\\core\\dtypes\\cast.py:1163: UserWarning: Parsing '22/06/2022' in DD/MM/YYYY format. Provide format or specify infer_datetime_format=True for consistent parsing.\n",
      "  to_datetime(arr).values,\n",
      "C:\\Setup\\Anaconda\\lib\\site-packages\\pandas\\core\\dtypes\\cast.py:1163: UserWarning: Parsing '17/11/2022' in DD/MM/YYYY format. Provide format or specify infer_datetime_format=True for consistent parsing.\n",
      "  to_datetime(arr).values,\n"
     ]
    }
   ],
   "source": [
    "df2[\"holidays\"] = df2[\"holidays\"].astype('datetime64[ns]')"
   ]
  },
  {
   "cell_type": "code",
   "execution_count": 96,
   "id": "96d9a4e3",
   "metadata": {},
   "outputs": [
    {
     "data": {
      "text/html": [
       "<div>\n",
       "<style scoped>\n",
       "    .dataframe tbody tr th:only-of-type {\n",
       "        vertical-align: middle;\n",
       "    }\n",
       "\n",
       "    .dataframe tbody tr th {\n",
       "        vertical-align: top;\n",
       "    }\n",
       "\n",
       "    .dataframe thead th {\n",
       "        text-align: right;\n",
       "    }\n",
       "</style>\n",
       "<table border=\"1\" class=\"dataframe\">\n",
       "  <thead>\n",
       "    <tr style=\"text-align: right;\">\n",
       "      <th></th>\n",
       "      <th>holidays</th>\n",
       "    </tr>\n",
       "  </thead>\n",
       "  <tbody>\n",
       "    <tr>\n",
       "      <th>0</th>\n",
       "      <td>2022-01-14</td>\n",
       "    </tr>\n",
       "    <tr>\n",
       "      <th>1</th>\n",
       "      <td>2022-03-15</td>\n",
       "    </tr>\n",
       "    <tr>\n",
       "      <th>2</th>\n",
       "      <td>2022-06-22</td>\n",
       "    </tr>\n",
       "    <tr>\n",
       "      <th>3</th>\n",
       "      <td>2022-11-17</td>\n",
       "    </tr>\n",
       "    <tr>\n",
       "      <th>4</th>\n",
       "      <td>2022-01-12</td>\n",
       "    </tr>\n",
       "  </tbody>\n",
       "</table>\n",
       "</div>"
      ],
      "text/plain": [
       "    holidays\n",
       "0 2022-01-14\n",
       "1 2022-03-15\n",
       "2 2022-06-22\n",
       "3 2022-11-17\n",
       "4 2022-01-12"
      ]
     },
     "execution_count": 96,
     "metadata": {},
     "output_type": "execute_result"
    }
   ],
   "source": [
    "df2"
   ]
  },
  {
   "cell_type": "code",
   "execution_count": 73,
   "id": "d35c9827",
   "metadata": {},
   "outputs": [
    {
     "data": {
      "text/html": [
       "<div>\n",
       "<style scoped>\n",
       "    .dataframe tbody tr th:only-of-type {\n",
       "        vertical-align: middle;\n",
       "    }\n",
       "\n",
       "    .dataframe tbody tr th {\n",
       "        vertical-align: top;\n",
       "    }\n",
       "\n",
       "    .dataframe thead th {\n",
       "        text-align: right;\n",
       "    }\n",
       "</style>\n",
       "<table border=\"1\" class=\"dataframe\">\n",
       "  <thead>\n",
       "    <tr style=\"text-align: right;\">\n",
       "      <th></th>\n",
       "      <th>empid</th>\n",
       "      <th>StartDt</th>\n",
       "      <th>EndDt</th>\n",
       "    </tr>\n",
       "  </thead>\n",
       "  <tbody>\n",
       "    <tr>\n",
       "      <th>0</th>\n",
       "      <td>1101</td>\n",
       "      <td>2014-03-25</td>\n",
       "      <td>2022-01-05</td>\n",
       "    </tr>\n",
       "    <tr>\n",
       "      <th>1</th>\n",
       "      <td>1103</td>\n",
       "      <td>2022-01-05</td>\n",
       "      <td>2022-01-09</td>\n",
       "    </tr>\n",
       "    <tr>\n",
       "      <th>2</th>\n",
       "      <td>1105</td>\n",
       "      <td>2019-06-09</td>\n",
       "      <td>2020-05-09</td>\n",
       "    </tr>\n",
       "    <tr>\n",
       "      <th>3</th>\n",
       "      <td>1107</td>\n",
       "      <td>2018-07-05</td>\n",
       "      <td>2022-07-05</td>\n",
       "    </tr>\n",
       "  </tbody>\n",
       "</table>\n",
       "</div>"
      ],
      "text/plain": [
       "  empid    StartDt      EndDt\n",
       "0  1101 2014-03-25 2022-01-05\n",
       "1  1103 2022-01-05 2022-01-09\n",
       "2  1105 2019-06-09 2020-05-09\n",
       "3  1107 2018-07-05 2022-07-05"
      ]
     },
     "execution_count": 73,
     "metadata": {},
     "output_type": "execute_result"
    }
   ],
   "source": [
    "df1"
   ]
  },
  {
   "cell_type": "markdown",
   "id": "d522bc0f",
   "metadata": {},
   "source": [
    "compute the no of working days for each employee which will be the no of days between start and end date from 1st DS minus the no of holidays from 2nd ds that fall within start and end date for each empid ithukku python code venum"
   ]
  },
  {
   "cell_type": "code",
   "execution_count": 108,
   "id": "5b4ea272",
   "metadata": {},
   "outputs": [
    {
     "data": {
      "text/html": [
       "<div>\n",
       "<style scoped>\n",
       "    .dataframe tbody tr th:only-of-type {\n",
       "        vertical-align: middle;\n",
       "    }\n",
       "\n",
       "    .dataframe tbody tr th {\n",
       "        vertical-align: top;\n",
       "    }\n",
       "\n",
       "    .dataframe thead th {\n",
       "        text-align: right;\n",
       "    }\n",
       "</style>\n",
       "<table border=\"1\" class=\"dataframe\">\n",
       "  <thead>\n",
       "    <tr style=\"text-align: right;\">\n",
       "      <th></th>\n",
       "      <th>empid</th>\n",
       "      <th>StartDt</th>\n",
       "      <th>EndDt</th>\n",
       "      <th>diff_days</th>\n",
       "    </tr>\n",
       "  </thead>\n",
       "  <tbody>\n",
       "    <tr>\n",
       "      <th>0</th>\n",
       "      <td>1101</td>\n",
       "      <td>2014-03-25</td>\n",
       "      <td>2022-01-05</td>\n",
       "      <td>2843 days</td>\n",
       "    </tr>\n",
       "    <tr>\n",
       "      <th>1</th>\n",
       "      <td>1103</td>\n",
       "      <td>2022-01-05</td>\n",
       "      <td>2022-01-09</td>\n",
       "      <td>4 days</td>\n",
       "    </tr>\n",
       "    <tr>\n",
       "      <th>2</th>\n",
       "      <td>1105</td>\n",
       "      <td>2019-06-09</td>\n",
       "      <td>2020-05-09</td>\n",
       "      <td>335 days</td>\n",
       "    </tr>\n",
       "    <tr>\n",
       "      <th>3</th>\n",
       "      <td>1107</td>\n",
       "      <td>2018-07-05</td>\n",
       "      <td>2022-07-05</td>\n",
       "      <td>1461 days</td>\n",
       "    </tr>\n",
       "  </tbody>\n",
       "</table>\n",
       "</div>"
      ],
      "text/plain": [
       "  empid    StartDt      EndDt diff_days\n",
       "0  1101 2014-03-25 2022-01-05 2843 days\n",
       "1  1103 2022-01-05 2022-01-09    4 days\n",
       "2  1105 2019-06-09 2020-05-09  335 days\n",
       "3  1107 2018-07-05 2022-07-05 1461 days"
      ]
     },
     "execution_count": 108,
     "metadata": {},
     "output_type": "execute_result"
    }
   ],
   "source": [
    "#import numpy as np\n",
    "df1['diff_days'] = (df1['EndDt'] - df1['StartDt']) #/ np.timedelta64(1, 'D')\n",
    "df1"
   ]
  },
  {
   "cell_type": "code",
   "execution_count": 99,
   "id": "de86106e",
   "metadata": {},
   "outputs": [],
   "source": [
    "holiday_list = df2[\"holidays\"].dt.strftime('%Y-%m-%d').tolist()"
   ]
  },
  {
   "cell_type": "code",
   "execution_count": 100,
   "id": "c78ab183",
   "metadata": {},
   "outputs": [
    {
     "data": {
      "text/plain": [
       "['2022-01-14', '2022-03-15', '2022-06-22', '2022-11-17', '2022-01-12']"
      ]
     },
     "execution_count": 100,
     "metadata": {},
     "output_type": "execute_result"
    }
   ],
   "source": [
    "holiday_list"
   ]
  },
  {
   "cell_type": "code",
   "execution_count": 104,
   "id": "ccc54ddd",
   "metadata": {},
   "outputs": [
    {
     "data": {
      "text/plain": [
       "str"
      ]
     },
     "execution_count": 104,
     "metadata": {},
     "output_type": "execute_result"
    }
   ],
   "source": [
    "type(holiday_list[1])"
   ]
  },
  {
   "cell_type": "code",
   "execution_count": 106,
   "id": "1807e6ad",
   "metadata": {},
   "outputs": [],
   "source": []
  },
  {
   "cell_type": "code",
   "execution_count": null,
   "id": "67e0aa98",
   "metadata": {},
   "outputs": [],
   "source": []
  }
 ],
 "metadata": {
  "kernelspec": {
   "display_name": "Python 3 (ipykernel)",
   "language": "python",
   "name": "python3"
  },
  "language_info": {
   "codemirror_mode": {
    "name": "ipython",
    "version": 3
   },
   "file_extension": ".py",
   "mimetype": "text/x-python",
   "name": "python",
   "nbconvert_exporter": "python",
   "pygments_lexer": "ipython3",
   "version": "3.8.8"
  }
 },
 "nbformat": 4,
 "nbformat_minor": 5
}
