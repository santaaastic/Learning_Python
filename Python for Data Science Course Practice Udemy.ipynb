{
 "cells": [
  {
   "cell_type": "markdown",
   "id": "f64afc9f",
   "metadata": {},
   "source": [
    "# Udemy Course: Python for Data Science"
   ]
  },
  {
   "cell_type": "markdown",
   "id": "40ccdec9",
   "metadata": {},
   "source": [
    "\tIntro:\n",
    "    - Guido van Russom - 1991  : Python founded\n",
    "\t- Interpreted not complied-- code does not need to be converted to machine language- smaller codes\n",
    "    - Current version: python3![image.png]\n",
    "        \n",
    "        \t- Python idle-- integrated development environment\n",
    "\t- Jupyter Notebooks-- web based interface-- .ipynb extension-- cell based structure\n",
    "\t- Anaconda-- bundle which has libraries, ide, python-- all in one"
   ]
  },
  {
   "cell_type": "markdown",
   "id": "17d26626",
   "metadata": {},
   "source": [
    "Input/OP"
   ]
  },
  {
   "cell_type": "code",
   "execution_count": 1,
   "id": "77415e1b",
   "metadata": {},
   "outputs": [
    {
     "name": "stdout",
     "output_type": "stream",
     "text": [
      "Welcome\n"
     ]
    }
   ],
   "source": [
    "#O/P\n",
    "print(\"Welcome\")"
   ]
  },
  {
   "cell_type": "code",
   "execution_count": 2,
   "id": "d6db6b0f",
   "metadata": {},
   "outputs": [
    {
     "name": "stdout",
     "output_type": "stream",
     "text": [
      "Enter the cost of each item: 150\n",
      "The cost of each item is :  150\n"
     ]
    }
   ],
   "source": [
    "#I/P\n",
    "cost=input(\"Enter the cost of each item: \")\n",
    "print(\"The cost of each item is : \", cost)"
   ]
  },
  {
   "cell_type": "markdown",
   "id": "53fa76a4",
   "metadata": {},
   "source": [
    "Working with Different Datatypes"
   ]
  },
  {
   "cell_type": "markdown",
   "id": "811f5719",
   "metadata": {},
   "source": [
    "There are two types of data in python:\n",
    "\n",
    "- Primitive(Datatype) -- most basic data structures-- \n",
    "  int , float, string, bool\n",
    "  \n",
    "  \n",
    "- Non Primitive-- non basic--\n",
    "  list, tuples, dictionaries\n",
    "  \n",
    " Datatype vs DataStructure\n",
    " \n",
    " Datatype     -- Describe the type of data which can be stored-- usually assigned against a single element\n",
    " DataStructure-- Collections in which data can be stored"
   ]
  },
  {
   "cell_type": "markdown",
   "id": "11bd16bb",
   "metadata": {},
   "source": [
    "Variables--\n",
    "\n",
    "Python is a dynamically typed language-- variables are allocated their respective data types in runtime. \n",
    "\n",
    "This is the reason why we need nit define the variable types and we can directly assign the variable values.\n",
    "\n",
    "Rules:\n",
    "Start- letters and underscore only\n",
    "Overall- no special characters , spaces\n",
    "\n"
   ]
  },
  {
   "cell_type": "markdown",
   "id": "5c2be8a4",
   "metadata": {},
   "source": [
    "Arithematic Operators:\n",
    "\n",
    "Division:  / corresponds float division\n",
    "           // corresponds integer division\n",
    "           %- modulo\n",
    "           \n",
    "Comparision operators: \n",
    "\n",
    " == returns Boolean true false\n",
    " != is not equal to\n",
    " \n",
    " Conditional statements:\n",
    " \n",
    " if-- only one \n",
    " else-- only one-- requires an if \n",
    " elif-- can be multiple -- requires an if statement\n",
    " \n",
    " Loops:\n",
    " for loop in python runs with range function and takes three inputs-- start, stop and step value\n",
    " The loop however runs only till stop-1 iterations"
   ]
  },
  {
   "cell_type": "code",
   "execution_count": 3,
   "id": "e8da48cf",
   "metadata": {},
   "outputs": [
    {
     "name": "stdout",
     "output_type": "stream",
     "text": [
      "2\n",
      "4\n",
      "6\n",
      "8\n",
      "10\n",
      "12\n",
      "14\n",
      "16\n",
      "18\n"
     ]
    }
   ],
   "source": [
    "for i in range (1,10,1):\n",
    "    Mul_Of_Two=2 * i\n",
    "    print(Mul_Of_Two)"
   ]
  },
  {
   "cell_type": "markdown",
   "id": "3fb4d8f9",
   "metadata": {},
   "source": [
    "Observe that only till 2*9=18 is printed even though we mentioned 10 as the stop value. That is because the loop iterates only till stop-1 iterations\n"
   ]
  },
  {
   "cell_type": "code",
   "execution_count": 4,
   "id": "b40638b2",
   "metadata": {},
   "outputs": [
    {
     "name": "stdout",
     "output_type": "stream",
     "text": [
      "0\n",
      "2\n",
      "4\n",
      "6\n",
      "8\n",
      "10\n",
      "12\n",
      "14\n",
      "16\n",
      "18\n",
      "20\n"
     ]
    }
   ],
   "source": [
    "#Task: Print 0 to 20 even numbers using sum\n",
    "start=0\n",
    "for i in range(0,21,2):\n",
    "    eve=start+i\n",
    "    print(eve)"
   ]
  },
  {
   "cell_type": "markdown",
   "id": "d65aa5dd",
   "metadata": {},
   "source": [
    "While Loops:  takes in a condition and runs until the condition is true"
   ]
  },
  {
   "cell_type": "markdown",
   "id": "92a22d37",
   "metadata": {},
   "source": [
    "i=1\n",
    "while i<10:\n",
    "    print(i)\n",
    "    i=i+1\n",
    "    \n",
    "    #Beware of control statement and dont run into infinite loop. "
   ]
  },
  {
   "cell_type": "code",
   "execution_count": 8,
   "id": "32a46ab4",
   "metadata": {},
   "outputs": [
    {
     "name": "stdout",
     "output_type": "stream",
     "text": [
      "Enter User NameHaris\n",
      " Wrong user name\n",
      "Enter User NameShantanu\n",
      "Welcome Shantanu\n"
     ]
    }
   ],
   "source": [
    "while True:\n",
    "    username=input(\"Enter User Name\")\n",
    "    if username==\"Shantanu\":\n",
    "        print(\"Welcome Shantanu\")\n",
    "        break\n",
    "    else:\n",
    "     print(\" Wrong user name\")"
   ]
  },
  {
   "cell_type": "markdown",
   "id": "5b626f77",
   "metadata": {},
   "source": [
    "Sequences-- built in in python -- ordered collection of objects-- lists tuple dictionaries\n",
    "\n",
    "Lists:-- Mutable-- can be modified-- elements may or maynot be of same datatype\n",
    "    Use indexing to extract individual elements, len() to find length, slice the list using list[inclusive, exclusive]"
   ]
  },
  {
   "cell_type": "code",
   "execution_count": 9,
   "id": "b95c7d31",
   "metadata": {},
   "outputs": [
    {
     "data": {
      "text/plain": [
       "['a']"
      ]
     },
     "execution_count": 9,
     "metadata": {},
     "output_type": "execute_result"
    }
   ],
   "source": [
    "list1=[\"a\", 10, \"hello\"]\n",
    "list1[0:1]"
   ]
  },
  {
   "cell_type": "code",
   "execution_count": 10,
   "id": "21240f08",
   "metadata": {},
   "outputs": [
    {
     "data": {
      "text/plain": [
       "'hello'"
      ]
     },
     "execution_count": 10,
     "metadata": {},
     "output_type": "execute_result"
    }
   ],
   "source": [
    "list1[-1]"
   ]
  },
  {
   "cell_type": "code",
   "execution_count": 13,
   "id": "727e02df",
   "metadata": {},
   "outputs": [
    {
     "data": {
      "text/plain": [
       "[10, 'hello']"
      ]
     },
     "execution_count": 13,
     "metadata": {},
     "output_type": "execute_result"
    }
   ],
   "source": [
    "#last two elements \n",
    "#3 is exluded, 3-1=2\n",
    "list1[1:3]"
   ]
  },
  {
   "cell_type": "code",
   "execution_count": 15,
   "id": "cb3e0d7b",
   "metadata": {},
   "outputs": [
    {
     "name": "stdout",
     "output_type": "stream",
     "text": [
      "a\n",
      "10\n",
      "hello\n"
     ]
    }
   ],
   "source": [
    "for i in list1:\n",
    "    print(i)"
   ]
  },
  {
   "cell_type": "markdown",
   "id": "7da66ff9",
   "metadata": {},
   "source": [
    "Dictionaries--- Mutable-- storage in key value pairs"
   ]
  },
  {
   "cell_type": "code",
   "execution_count": 17,
   "id": "70115898",
   "metadata": {},
   "outputs": [],
   "source": [
    "dict1={\"Name\":\"Shantanu\", \"Age\": 26, \"Sex\": \"M\"}"
   ]
  },
  {
   "cell_type": "code",
   "execution_count": 18,
   "id": "d9aaf0a1",
   "metadata": {},
   "outputs": [
    {
     "name": "stdout",
     "output_type": "stream",
     "text": [
      "dict_keys(['Name', 'Age', 'Sex'])\n"
     ]
    }
   ],
   "source": [
    "print(dict1.keys())"
   ]
  },
  {
   "cell_type": "code",
   "execution_count": 19,
   "id": "75739b1d",
   "metadata": {},
   "outputs": [
    {
     "name": "stdout",
     "output_type": "stream",
     "text": [
      "dict_values(['Shantanu', 26, 'M'])\n"
     ]
    }
   ],
   "source": [
    "print(dict1.values())"
   ]
  },
  {
   "cell_type": "code",
   "execution_count": 20,
   "id": "b1c04dfc",
   "metadata": {},
   "outputs": [
    {
     "data": {
      "text/plain": [
       "26"
      ]
     },
     "execution_count": 20,
     "metadata": {},
     "output_type": "execute_result"
    }
   ],
   "source": [
    "dict1[\"Age\"]"
   ]
  },
  {
   "cell_type": "code",
   "execution_count": 21,
   "id": "d4edd5ab",
   "metadata": {},
   "outputs": [
    {
     "name": "stdout",
     "output_type": "stream",
     "text": [
      "Shantanu\n",
      "26\n",
      "M\n"
     ]
    }
   ],
   "source": [
    "for i in dict1:\n",
    "    print(dict1[i])"
   ]
  },
  {
   "cell_type": "markdown",
   "id": "bafd5f07",
   "metadata": {},
   "source": [
    "Tuples: IMMUTABLE-- different from list as they cant be modified"
   ]
  },
  {
   "cell_type": "code",
   "execution_count": 23,
   "id": "db35a803",
   "metadata": {},
   "outputs": [
    {
     "name": "stdout",
     "output_type": "stream",
     "text": [
      "5\n",
      "red\n"
     ]
    }
   ],
   "source": [
    "tuple1=(5,\"red\")\n",
    "for i in tuple1:\n",
    "    print(i)\n",
    "    "
   ]
  },
  {
   "cell_type": "markdown",
   "id": "9922755a",
   "metadata": {},
   "source": [
    "All the methods applicable to lists are applicable to tuples."
   ]
  },
  {
   "cell_type": "markdown",
   "id": "8d791458",
   "metadata": {},
   "source": [
    "Functions-- built in functions, self declared functions\n",
    "Built in functions: https://docs.python.org/3/library/functions.html\n"
   ]
  },
  {
   "cell_type": "code",
   "execution_count": 27,
   "id": "93d15734",
   "metadata": {},
   "outputs": [
    {
     "name": "stdout",
     "output_type": "stream",
     "text": [
      "13\n"
     ]
    }
   ],
   "source": [
    "# We can also create our own functions\n",
    "def add1(x,y):\n",
    "    sum=x+y\n",
    "    return sum\n",
    "\n",
    "final=add1(6,7)\n",
    "print(final)"
   ]
  },
  {
   "cell_type": "markdown",
   "id": "b97ab11c",
   "metadata": {},
   "source": [
    "# Libraries for Data Science"
   ]
  },
  {
   "cell_type": "code",
   "execution_count": 2,
   "id": "94acd57a",
   "metadata": {},
   "outputs": [],
   "source": [
    "import pandas as pd\n",
    "import numpy as np\n",
    "import sklearn as skt\n",
    "import matplotlib.pyplot as plt"
   ]
  },
  {
   "cell_type": "markdown",
   "id": "8aaf7b28",
   "metadata": {},
   "source": [
    "Pandas: Storing , accesing, cleaning and exploring data.\n",
    "\n",
    "Provides 2 data structures: Series(1-D data structure) and Dataframe(2-D data structure)"
   ]
  },
  {
   "cell_type": "markdown",
   "id": "0d01bc71",
   "metadata": {},
   "source": [
    "Numpy: Numerical python \n",
    "\n",
    "Data can be structured into 1D, 2D, 3D Numpy arrays.\n",
    "\n",
    "Numpy provides mathematical computational functions on these arrays.\n"
   ]
  },
  {
   "cell_type": "markdown",
   "id": "f56be1a3",
   "metadata": {},
   "source": [
    "Some of the functionalities of pandas is derived from pandas\n",
    "\n",
    "Pandas vs Numpy-- pandas is used for data manipulation whereas numpy is used for mathematical computations."
   ]
  },
  {
   "cell_type": "markdown",
   "id": "212e12cf",
   "metadata": {},
   "source": [
    "Matplotlib: for visualization"
   ]
  },
  {
   "cell_type": "markdown",
   "id": "c2691614",
   "metadata": {},
   "source": [
    "Seaborn: Built on top of matplotlib-- provides additional graph options with lesser coding"
   ]
  },
  {
   "cell_type": "markdown",
   "id": "3d784627",
   "metadata": {},
   "source": [
    "# Numpy "
   ]
  },
  {
   "cell_type": "markdown",
   "id": "db901032",
   "metadata": {},
   "source": [
    "Numpy Array"
   ]
  },
  {
   "cell_type": "markdown",
   "id": "88bda13c",
   "metadata": {},
   "source": [
    "Grid of values\n",
    "Example:[0 1 2 3\n",
    "        5 2 4 1]\n",
    "\n",
    "Multidimensional data structure\n",
    "\n",
    "Called as nd array\n",
    "\n",
    "Dimension of a numpy array can be calculated using .ndim."
   ]
  },
  {
   "cell_type": "markdown",
   "id": "0558fc27",
   "metadata": {},
   "source": [
    "Numpy Array vs Python List:\n",
    "- More flexibility in numpy arrays-- more functions applicable\n",
    "- More efficient- less memory more space\n",
    "- Help in handling huge multidimensional data sets"
   ]
  },
  {
   "cell_type": "markdown",
   "id": "5c25db8e",
   "metadata": {},
   "source": [
    "# Creating Numpy Arrays"
   ]
  },
  {
   "cell_type": "code",
   "execution_count": 1,
   "id": "3a65d78a",
   "metadata": {},
   "outputs": [],
   "source": [
    "import numpy as np"
   ]
  },
  {
   "cell_type": "code",
   "execution_count": 2,
   "id": "79ee5fc9",
   "metadata": {},
   "outputs": [
    {
     "name": "stdout",
     "output_type": "stream",
     "text": [
      "[0 8 0 9]\n"
     ]
    }
   ],
   "source": [
    "arr1=np.array([0,8,0,9])\n",
    "print(arr1)"
   ]
  },
  {
   "cell_type": "code",
   "execution_count": 3,
   "id": "e8d5d652",
   "metadata": {},
   "outputs": [
    {
     "name": "stdout",
     "output_type": "stream",
     "text": [
      "[0 8 0 9]\n"
     ]
    }
   ],
   "source": [
    "arr2=np.array((0,8,0,9))\n",
    "print(arr2)"
   ]
  },
  {
   "cell_type": "markdown",
   "id": "82e16833",
   "metadata": {},
   "source": [
    "List or Tuple is passed in array function inside the numpy library"
   ]
  },
  {
   "cell_type": "code",
   "execution_count": 4,
   "id": "4e67a337",
   "metadata": {},
   "outputs": [
    {
     "name": "stdout",
     "output_type": "stream",
     "text": [
      "1\n"
     ]
    }
   ],
   "source": [
    "print(arr2.ndim)"
   ]
  },
  {
   "cell_type": "code",
   "execution_count": 5,
   "id": "0613a77e",
   "metadata": {},
   "outputs": [
    {
     "name": "stdout",
     "output_type": "stream",
     "text": [
      "[[1 2 4]\n",
      " [7 8 9]]\n"
     ]
    }
   ],
   "source": [
    "arr3=np.array([[1,2,4],[7,8,9]])\n",
    "print(arr3)"
   ]
  },
  {
   "cell_type": "code",
   "execution_count": 6,
   "id": "f19dd915",
   "metadata": {},
   "outputs": [
    {
     "name": "stdout",
     "output_type": "stream",
     "text": [
      "2\n"
     ]
    }
   ],
   "source": [
    "print(arr3.ndim)"
   ]
  },
  {
   "cell_type": "code",
   "execution_count": 8,
   "id": "7bcd1a40",
   "metadata": {},
   "outputs": [
    {
     "name": "stdout",
     "output_type": "stream",
     "text": [
      "[[[1 2 4]\n",
      "  [7 8 9]\n",
      "  [5 9 8]]]\n"
     ]
    }
   ],
   "source": [
    "arr4=np.array([[[1,2,4],[7,8,9],[5,9,8]]])\n",
    "print(arr4)"
   ]
  },
  {
   "cell_type": "code",
   "execution_count": 9,
   "id": "5f4038f3",
   "metadata": {},
   "outputs": [
    {
     "name": "stdout",
     "output_type": "stream",
     "text": [
      "3\n"
     ]
    }
   ],
   "source": [
    "print(arr4.ndim)"
   ]
  },
  {
   "cell_type": "markdown",
   "id": "d00f022c",
   "metadata": {},
   "source": [
    "# Indexing a Numpy Array"
   ]
  },
  {
   "cell_type": "code",
   "execution_count": 10,
   "id": "f8f27f75",
   "metadata": {},
   "outputs": [
    {
     "name": "stdout",
     "output_type": "stream",
     "text": [
      "[[1 2 4]\n",
      " [7 8 9]]\n"
     ]
    }
   ],
   "source": [
    "arr3=np.array([[1,2,4],[7,8,9]])\n",
    "print(arr3)"
   ]
  },
  {
   "cell_type": "code",
   "execution_count": 11,
   "id": "7d176d4e",
   "metadata": {},
   "outputs": [
    {
     "name": "stdout",
     "output_type": "stream",
     "text": [
      "[7 8 9]\n"
     ]
    }
   ],
   "source": [
    "print(arr3[1])"
   ]
  },
  {
   "cell_type": "code",
   "execution_count": 12,
   "id": "fd6f1896",
   "metadata": {},
   "outputs": [
    {
     "name": "stdout",
     "output_type": "stream",
     "text": [
      "8\n"
     ]
    }
   ],
   "source": [
    "print(arr3[1][1])"
   ]
  },
  {
   "cell_type": "code",
   "execution_count": 23,
   "id": "b7334b77",
   "metadata": {},
   "outputs": [
    {
     "name": "stdout",
     "output_type": "stream",
     "text": [
      "[[[1 2 4]]\n",
      "\n",
      " [[7 8 9]]\n",
      "\n",
      " [[5 9 8]]]\n"
     ]
    }
   ],
   "source": [
    "arr4=np.array([[[1,2,4]],[[7,8,9]],[[5,9,8]]])\n",
    "print(arr4)"
   ]
  },
  {
   "cell_type": "code",
   "execution_count": 25,
   "id": "7de74519",
   "metadata": {},
   "outputs": [
    {
     "name": "stdout",
     "output_type": "stream",
     "text": [
      "[1 2 4]\n"
     ]
    }
   ],
   "source": [
    "print(arr4[0][0])"
   ]
  },
  {
   "cell_type": "code",
   "execution_count": 26,
   "id": "8e2cdfde",
   "metadata": {},
   "outputs": [
    {
     "name": "stdout",
     "output_type": "stream",
     "text": [
      "(3, 1, 3)\n"
     ]
    }
   ],
   "source": [
    "print(arr4.shape)"
   ]
  },
  {
   "cell_type": "markdown",
   "id": "8878f64c",
   "metadata": {},
   "source": [
    "# Iterating over 1-D Numpy Array"
   ]
  },
  {
   "cell_type": "code",
   "execution_count": 3,
   "id": "b9fa374b",
   "metadata": {},
   "outputs": [
    {
     "name": "stdout",
     "output_type": "stream",
     "text": [
      "[ 56  85 282]\n"
     ]
    }
   ],
   "source": [
    "arr45=np.array([56, 85,282])\n",
    "print(arr45)"
   ]
  },
  {
   "cell_type": "code",
   "execution_count": 4,
   "id": "0b9659f0",
   "metadata": {},
   "outputs": [
    {
     "name": "stdout",
     "output_type": "stream",
     "text": [
      "56\n",
      "85\n",
      "282\n"
     ]
    }
   ],
   "source": [
    "for i in arr45:\n",
    "    print(i)"
   ]
  },
  {
   "cell_type": "markdown",
   "id": "a913edfb",
   "metadata": {},
   "source": [
    "# Iterating over 2-D Numpy Array"
   ]
  },
  {
   "cell_type": "code",
   "execution_count": 8,
   "id": "8dbd64c1",
   "metadata": {},
   "outputs": [
    {
     "name": "stdout",
     "output_type": "stream",
     "text": [
      "[[ 56  85 245]\n",
      " [282  65 889]]\n",
      "(2, 3)\n"
     ]
    }
   ],
   "source": [
    "arr2_D=np.array([[56, 85,245],[282,65,889]])\n",
    "print(arr2_D)\n",
    "print(arr2_D.shape)"
   ]
  },
  {
   "cell_type": "code",
   "execution_count": 9,
   "id": "5190517b",
   "metadata": {},
   "outputs": [
    {
     "name": "stdout",
     "output_type": "stream",
     "text": [
      "[ 56  85 245]\n",
      "[282  65 889]\n"
     ]
    }
   ],
   "source": [
    "for i in arr2_D:\n",
    "    print(i)\n",
    "    "
   ]
  },
  {
   "cell_type": "code",
   "execution_count": 10,
   "id": "240191d4",
   "metadata": {},
   "outputs": [
    {
     "name": "stdout",
     "output_type": "stream",
     "text": [
      "56\n",
      "85\n",
      "245\n",
      "282\n",
      "65\n",
      "889\n"
     ]
    }
   ],
   "source": [
    "for i in arr2_D:\n",
    "    for j in i:\n",
    "        print(j)"
   ]
  },
  {
   "cell_type": "code",
   "execution_count": null,
   "id": "d2ee1f8b",
   "metadata": {},
   "outputs": [],
   "source": [
    "# Iterating over 2-D Numpy Array"
   ]
  }
 ],
 "metadata": {
  "kernelspec": {
   "display_name": "Python 3 (ipykernel)",
   "language": "python",
   "name": "python3"
  },
  "language_info": {
   "codemirror_mode": {
    "name": "ipython",
    "version": 3
   },
   "file_extension": ".py",
   "mimetype": "text/x-python",
   "name": "python",
   "nbconvert_exporter": "python",
   "pygments_lexer": "ipython3",
   "version": "3.8.8"
  }
 },
 "nbformat": 4,
 "nbformat_minor": 5
}
